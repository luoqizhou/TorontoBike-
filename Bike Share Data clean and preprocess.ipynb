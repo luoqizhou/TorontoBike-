{
 "cells": [
  {
   "cell_type": "code",
   "execution_count": 2,
   "id": "baa7d5be",
   "metadata": {},
   "outputs": [
    {
     "name": "stdout",
     "output_type": "stream",
     "text": [
      "env: OMP_NUM_THREADS=4\n",
      "2021-10-12 06:44:36.449727\n"
     ]
    }
   ],
   "source": [
    "%env OMP_NUM_THREADS = 4\n",
    "\n",
    "import datetime\n",
    "print(datetime.datetime.now())\n",
    "import pandas as pd\n",
    "import numpy as np\n",
    "import seaborn as sns\n",
    "\n",
    "import matplotlib.pyplot as plt\n",
    "\n",
    "from sklearn.metrics import silhouette_score, silhouette_samples\n",
    "from sklearn.preprocessing import StandardScaler\n",
    "from sklearn.cluster import KMeans, DBSCAN, AgglomerativeClustering\n",
    "from sklearn.mixture import GaussianMixture\n",
    "from sklearn.model_selection import train_test_split\n",
    "from sklearn.metrics import roc_curve, auc, roc_auc_score, classification_report, confusion_matrix, make_scorer, f1_score\n",
    "\n",
    "from IPython.core.interactiveshell import InteractiveShell\n",
    "InteractiveShell.ast_node_interactivity = \"all\""
   ]
  },
  {
   "cell_type": "code",
   "execution_count": 3,
   "id": "0e57fd16",
   "metadata": {},
   "outputs": [],
   "source": [
    "import numpy as np\n",
    "import pandas as pd\n",
    "import sklearn as sk\n",
    "import statsmodels as sm\n",
    "import pmdarima as pm"
   ]
  },
  {
   "cell_type": "code",
   "execution_count": 4,
   "id": "54d8ae59",
   "metadata": {},
   "outputs": [],
   "source": [
    "import os\n",
    "import glob\n",
    "import pandas as pd\n",
    "os.chdir(\"C:/Users/luoqi/OneDrive/Queens University/Jobs/Applications/EY consulting/Data\")\n"
   ]
  },
  {
   "cell_type": "markdown",
   "id": "8aeacfb6",
   "metadata": {},
   "source": [
    "# Combine dataset"
   ]
  },
  {
   "cell_type": "code",
   "execution_count": 5,
   "id": "dc7e442a",
   "metadata": {},
   "outputs": [],
   "source": [
    "extension = 'csv'\n",
    "\n",
    "file2019 = [i for i in glob.glob('2019*'.format(extension))]\n",
    "file2020 = [i for i in glob.glob('2020*'.format(extension))]\n",
    "file2021 = [i for i in glob.glob('2021*'.format(extension))]"
   ]
  },
  {
   "cell_type": "code",
   "execution_count": 6,
   "id": "89333347",
   "metadata": {},
   "outputs": [],
   "source": [
    "#combine all files in the list\n",
    "\n",
    "df_2019 = pd.concat([pd.read_csv(f) for f in file2019 ])\n",
    "df_2020 = pd.concat([pd.read_csv(f) for f in file2020 ])\n",
    "df_2021 = pd.concat([pd.read_csv(f) for f in file2021 ])"
   ]
  },
  {
   "cell_type": "code",
   "execution_count": 7,
   "id": "cae8d365",
   "metadata": {},
   "outputs": [],
   "source": [
    "df = pd.concat([df_2019,df_2020,df_2021])"
   ]
  },
  {
   "cell_type": "code",
   "execution_count": 8,
   "id": "4a571193",
   "metadata": {},
   "outputs": [
    {
     "data": {
      "text/html": [
       "<div>\n",
       "<style scoped>\n",
       "    .dataframe tbody tr th:only-of-type {\n",
       "        vertical-align: middle;\n",
       "    }\n",
       "\n",
       "    .dataframe tbody tr th {\n",
       "        vertical-align: top;\n",
       "    }\n",
       "\n",
       "    .dataframe thead th {\n",
       "        text-align: right;\n",
       "    }\n",
       "</style>\n",
       "<table border=\"1\" class=\"dataframe\">\n",
       "  <thead>\n",
       "    <tr style=\"text-align: right;\">\n",
       "      <th></th>\n",
       "      <th>Trip Id</th>\n",
       "      <th>Trip  Duration</th>\n",
       "      <th>Start Station Id</th>\n",
       "      <th>Start Time</th>\n",
       "      <th>Start Station Name</th>\n",
       "      <th>End Station Id</th>\n",
       "      <th>End Time</th>\n",
       "      <th>End Station Name</th>\n",
       "      <th>Bike Id</th>\n",
       "      <th>User Type</th>\n",
       "    </tr>\n",
       "  </thead>\n",
       "  <tbody>\n",
       "    <tr>\n",
       "      <th>0</th>\n",
       "      <td>4581278</td>\n",
       "      <td>1547.0</td>\n",
       "      <td>7021</td>\n",
       "      <td>01/01/2019 00:08</td>\n",
       "      <td>Bay St / Albert St</td>\n",
       "      <td>7233.0</td>\n",
       "      <td>01/01/2019 00:33</td>\n",
       "      <td>King / Cowan Ave - SMART</td>\n",
       "      <td>1296</td>\n",
       "      <td>Annual Member</td>\n",
       "    </tr>\n",
       "    <tr>\n",
       "      <th>1</th>\n",
       "      <td>4581279</td>\n",
       "      <td>1112.0</td>\n",
       "      <td>7160</td>\n",
       "      <td>01/01/2019 00:10</td>\n",
       "      <td>King St W / Tecumseth St</td>\n",
       "      <td>7051.0</td>\n",
       "      <td>01/01/2019 00:29</td>\n",
       "      <td>Wellesley St E / Yonge St (Green P)</td>\n",
       "      <td>2947</td>\n",
       "      <td>Annual Member</td>\n",
       "    </tr>\n",
       "    <tr>\n",
       "      <th>2</th>\n",
       "      <td>4581280</td>\n",
       "      <td>589.0</td>\n",
       "      <td>7055</td>\n",
       "      <td>01/01/2019 00:15</td>\n",
       "      <td>Jarvis St / Carlton St</td>\n",
       "      <td>7013.0</td>\n",
       "      <td>01/01/2019 00:25</td>\n",
       "      <td>Scott St / The Esplanade</td>\n",
       "      <td>2293</td>\n",
       "      <td>Annual Member</td>\n",
       "    </tr>\n",
       "    <tr>\n",
       "      <th>3</th>\n",
       "      <td>4581281</td>\n",
       "      <td>259.0</td>\n",
       "      <td>7012</td>\n",
       "      <td>01/01/2019 00:16</td>\n",
       "      <td>Elizabeth St / Edward St (Bus Terminal)</td>\n",
       "      <td>7235.0</td>\n",
       "      <td>01/01/2019 00:20</td>\n",
       "      <td>Bay St / College St (West Side) - SMART</td>\n",
       "      <td>283</td>\n",
       "      <td>Annual Member</td>\n",
       "    </tr>\n",
       "    <tr>\n",
       "      <th>4</th>\n",
       "      <td>4581282</td>\n",
       "      <td>281.0</td>\n",
       "      <td>7041</td>\n",
       "      <td>01/01/2019 00:19</td>\n",
       "      <td>Edward St / Yonge St</td>\n",
       "      <td>7257.0</td>\n",
       "      <td>01/01/2019 00:24</td>\n",
       "      <td>Dundas St W / St. Patrick St</td>\n",
       "      <td>1799</td>\n",
       "      <td>Annual Member</td>\n",
       "    </tr>\n",
       "  </tbody>\n",
       "</table>\n",
       "</div>"
      ],
      "text/plain": [
       "   Trip Id  Trip  Duration Start Station Id        Start Time  \\\n",
       "0  4581278          1547.0             7021  01/01/2019 00:08   \n",
       "1  4581279          1112.0             7160  01/01/2019 00:10   \n",
       "2  4581280           589.0             7055  01/01/2019 00:15   \n",
       "3  4581281           259.0             7012  01/01/2019 00:16   \n",
       "4  4581282           281.0             7041  01/01/2019 00:19   \n",
       "\n",
       "                        Start Station Name End Station Id          End Time  \\\n",
       "0                       Bay St / Albert St         7233.0  01/01/2019 00:33   \n",
       "1                 King St W / Tecumseth St         7051.0  01/01/2019 00:29   \n",
       "2                   Jarvis St / Carlton St         7013.0  01/01/2019 00:25   \n",
       "3  Elizabeth St / Edward St (Bus Terminal)         7235.0  01/01/2019 00:20   \n",
       "4                     Edward St / Yonge St         7257.0  01/01/2019 00:24   \n",
       "\n",
       "                          End Station Name Bike Id      User Type  \n",
       "0                 King / Cowan Ave - SMART    1296  Annual Member  \n",
       "1      Wellesley St E / Yonge St (Green P)    2947  Annual Member  \n",
       "2                 Scott St / The Esplanade    2293  Annual Member  \n",
       "3  Bay St / College St (West Side) - SMART     283  Annual Member  \n",
       "4             Dundas St W / St. Patrick St    1799  Annual Member  "
      ]
     },
     "execution_count": 8,
     "metadata": {},
     "output_type": "execute_result"
    }
   ],
   "source": [
    "df.head()"
   ]
  },
  {
   "cell_type": "markdown",
   "id": "085dff84",
   "metadata": {},
   "source": [
    "# Data Cleaning"
   ]
  },
  {
   "cell_type": "code",
   "execution_count": 9,
   "id": "2c03b9a7",
   "metadata": {},
   "outputs": [
    {
     "data": {
      "text/plain": [
       "Trip Id               8170082\n",
       "Trip  Duration        8170066\n",
       "Start Station Id      8170082\n",
       "Start Time            8170082\n",
       "Start Station Name    8168271\n",
       "End Station Id        8166761\n",
       "End Time              8170082\n",
       "End Station Name      8164989\n",
       "Bike Id               8169806\n",
       "User Type             8169833\n",
       "dtype: int64"
      ]
     },
     "execution_count": 9,
     "metadata": {},
     "output_type": "execute_result"
    },
    {
     "data": {
      "text/plain": [
       "Trip Id                  0\n",
       "Trip  Duration          16\n",
       "Start Station Id         0\n",
       "Start Time               0\n",
       "Start Station Name    1811\n",
       "End Station Id        3321\n",
       "End Time                 0\n",
       "End Station Name      5093\n",
       "Bike Id                276\n",
       "User Type              249\n",
       "dtype: int64"
      ]
     },
     "execution_count": 9,
     "metadata": {},
     "output_type": "execute_result"
    }
   ],
   "source": [
    "df.count()\n",
    "df.isna().sum() #Get an idea of how many NA's we're dealing with"
   ]
  },
  {
   "cell_type": "code",
   "execution_count": 10,
   "id": "e57e4598",
   "metadata": {},
   "outputs": [],
   "source": [
    "null_data = df[df.isnull().any(axis=1)]"
   ]
  },
  {
   "cell_type": "code",
   "execution_count": 11,
   "id": "1578a2a6",
   "metadata": {},
   "outputs": [
    {
     "name": "stdout",
     "output_type": "stream",
     "text": [
      "<class 'pandas.core.frame.DataFrame'>\n",
      "Int64Index: 7357 entries, 59771 to 454602\n",
      "Data columns (total 10 columns):\n",
      " #   Column              Non-Null Count  Dtype  \n",
      "---  ------              --------------  -----  \n",
      " 0   Trip Id             7357 non-null   int64  \n",
      " 1   Trip  Duration      7341 non-null   float64\n",
      " 2   Start Station Id    7357 non-null   object \n",
      " 3   Start Time          7357 non-null   object \n",
      " 4   Start Station Name  5546 non-null   object \n",
      " 5   End Station Id      4036 non-null   object \n",
      " 6   End Time            7357 non-null   object \n",
      " 7   End Station Name    2264 non-null   object \n",
      " 8   Bike Id             7081 non-null   object \n",
      " 9   User Type           7108 non-null   object \n",
      "dtypes: float64(1), int64(1), object(8)\n",
      "memory usage: 632.2+ KB\n"
     ]
    }
   ],
   "source": [
    "null_data.info()"
   ]
  },
  {
   "cell_type": "code",
   "execution_count": 12,
   "id": "c0fc9ab2",
   "metadata": {},
   "outputs": [],
   "source": [
    "null_data.to_csv( \"null_data.csv\") # export the instances containing missing values for further analysis in excel"
   ]
  },
  {
   "cell_type": "code",
   "execution_count": 13,
   "id": "1777bdf2",
   "metadata": {},
   "outputs": [
    {
     "data": {
      "text/plain": [
       "12403785.0"
      ]
     },
     "execution_count": 13,
     "metadata": {},
     "output_type": "execute_result"
    }
   ],
   "source": [
    "df['Trip  Duration'].max() # the max outlier is about 143 days which is impossible for such a long trip"
   ]
  },
  {
   "cell_type": "code",
   "execution_count": 14,
   "id": "2d477a04",
   "metadata": {},
   "outputs": [
    {
     "name": "stdout",
     "output_type": "stream",
     "text": [
      "<class 'pandas.core.frame.DataFrame'>\n",
      "Int64Index: 8134425 entries, 0 to 454787\n",
      "Data columns (total 10 columns):\n",
      " #   Column              Dtype  \n",
      "---  ------              -----  \n",
      " 0   Trip Id             int64  \n",
      " 1   Trip  Duration      float64\n",
      " 2   Start Station Id    object \n",
      " 3   Start Time          object \n",
      " 4   Start Station Name  object \n",
      " 5   End Station Id      object \n",
      " 6   End Time            object \n",
      " 7   End Station Name    object \n",
      " 8   Bike Id             object \n",
      " 9   User Type           object \n",
      "dtypes: float64(1), int64(1), object(8)\n",
      "memory usage: 682.7+ MB\n"
     ]
    }
   ],
   "source": [
    "# Valid trip should be more than 1 min. TPA generally consider trips less than a minute to be false trips. \n",
    "df = df[df['Trip  Duration']>60]\n",
    "\n",
    "# Exclude the outliners that duration more than 24 hours. \n",
    "df = df[df['Trip  Duration']<24*60*60]\n",
    "\n",
    "df.info()"
   ]
  },
  {
   "cell_type": "code",
   "execution_count": 15,
   "id": "3c86d847",
   "metadata": {},
   "outputs": [
    {
     "data": {
      "text/plain": [
       "Trip Id                  0\n",
       "Trip  Duration           0\n",
       "Start Station Id         0\n",
       "Start Time               0\n",
       "Start Station Name    1802\n",
       "End Station Id         924\n",
       "End Time                 0\n",
       "End Station Name      2690\n",
       "Bike Id                275\n",
       "User Type              249\n",
       "dtype: int64"
      ]
     },
     "execution_count": 15,
     "metadata": {},
     "output_type": "execute_result"
    }
   ],
   "source": [
    "df.isna().sum() #Get an idea of how many NA's we're dealing with"
   ]
  },
  {
   "cell_type": "code",
   "execution_count": 16,
   "id": "6ecec926",
   "metadata": {},
   "outputs": [],
   "source": [
    "df= df.drop(columns=['Start Station Name','End Station Name','Bike Id'])"
   ]
  },
  {
   "cell_type": "code",
   "execution_count": 17,
   "id": "90a096a6",
   "metadata": {},
   "outputs": [],
   "source": [
    "df = df[df['End Station Id'].notna()]\n",
    "df = df[df['User Type'].notna()]"
   ]
  },
  {
   "cell_type": "code",
   "execution_count": 18,
   "id": "82e7f97c",
   "metadata": {},
   "outputs": [
    {
     "name": "stdout",
     "output_type": "stream",
     "text": [
      "<class 'pandas.core.frame.DataFrame'>\n",
      "Int64Index: 8133252 entries, 0 to 454787\n",
      "Data columns (total 7 columns):\n",
      " #   Column            Dtype  \n",
      "---  ------            -----  \n",
      " 0   Trip Id           int64  \n",
      " 1   Trip  Duration    float64\n",
      " 2   Start Station Id  object \n",
      " 3   Start Time        object \n",
      " 4   End Station Id    object \n",
      " 5   End Time          object \n",
      " 6   User Type         object \n",
      "dtypes: float64(1), int64(1), object(5)\n",
      "memory usage: 496.4+ MB\n"
     ]
    }
   ],
   "source": [
    "df.info()"
   ]
  },
  {
   "cell_type": "code",
   "execution_count": 19,
   "id": "c2573086",
   "metadata": {},
   "outputs": [
    {
     "data": {
      "text/plain": [
       "Trip Id             0\n",
       "Trip  Duration      0\n",
       "Start Station Id    0\n",
       "Start Time          0\n",
       "End Station Id      0\n",
       "End Time            0\n",
       "User Type           0\n",
       "dtype: int64"
      ]
     },
     "execution_count": 19,
     "metadata": {},
     "output_type": "execute_result"
    }
   ],
   "source": [
    "df.isna().sum() # test na"
   ]
  },
  {
   "cell_type": "code",
   "execution_count": 20,
   "id": "8ad7ae0a",
   "metadata": {},
   "outputs": [],
   "source": [
    "# Transfer Datetime format\n",
    "df['Start Time'] = pd.to_datetime(df['Start Time'],format = '%m/%d/%Y %H:%M')\n",
    "df['End Time'] = pd.to_datetime(df['End Time'],format = '%m/%d/%Y %H:%M')"
   ]
  },
  {
   "cell_type": "code",
   "execution_count": 21,
   "id": "d22df1f3",
   "metadata": {},
   "outputs": [],
   "source": [
    "df['Start date'] = df['Start Time'].dt.date\n",
    "df['End date'] = df['End Time'].dt.date\n",
    "df['Hour'] =df['Start Time'].dt.hour\n",
    "df['day_of_week'] = df['Start Time'].dt.day_name()\n",
    "df['Month'] =df['Start Time'].dt.month_name()\n",
    "df['Quarter'] = df['Start Time'].dt.quarter"
   ]
  },
  {
   "cell_type": "code",
   "execution_count": 22,
   "id": "354a5349",
   "metadata": {},
   "outputs": [
    {
     "data": {
      "text/html": [
       "<div>\n",
       "<style scoped>\n",
       "    .dataframe tbody tr th:only-of-type {\n",
       "        vertical-align: middle;\n",
       "    }\n",
       "\n",
       "    .dataframe tbody tr th {\n",
       "        vertical-align: top;\n",
       "    }\n",
       "\n",
       "    .dataframe thead th {\n",
       "        text-align: right;\n",
       "    }\n",
       "</style>\n",
       "<table border=\"1\" class=\"dataframe\">\n",
       "  <thead>\n",
       "    <tr style=\"text-align: right;\">\n",
       "      <th></th>\n",
       "      <th>Trip Id</th>\n",
       "      <th>Trip  Duration</th>\n",
       "      <th>Start Station Id</th>\n",
       "      <th>Start Time</th>\n",
       "      <th>End Station Id</th>\n",
       "      <th>End Time</th>\n",
       "      <th>User Type</th>\n",
       "      <th>Start date</th>\n",
       "      <th>End date</th>\n",
       "      <th>Hour</th>\n",
       "      <th>day_of_week</th>\n",
       "      <th>Month</th>\n",
       "      <th>Quarter</th>\n",
       "    </tr>\n",
       "  </thead>\n",
       "  <tbody>\n",
       "    <tr>\n",
       "      <th>454783</th>\n",
       "      <td>13916477</td>\n",
       "      <td>553.0</td>\n",
       "      <td>7274</td>\n",
       "      <td>2021-09-30 23:59:00</td>\n",
       "      <td>7382.0</td>\n",
       "      <td>2021-10-01 00:08:00</td>\n",
       "      <td>Annual Member</td>\n",
       "      <td>2021-09-30</td>\n",
       "      <td>2021-10-01</td>\n",
       "      <td>23</td>\n",
       "      <td>Thursday</td>\n",
       "      <td>September</td>\n",
       "      <td>3</td>\n",
       "    </tr>\n",
       "    <tr>\n",
       "      <th>454784</th>\n",
       "      <td>13916478</td>\n",
       "      <td>707.0</td>\n",
       "      <td>7204</td>\n",
       "      <td>2021-09-30 23:59:00</td>\n",
       "      <td>7020.0</td>\n",
       "      <td>2021-10-01 00:11:00</td>\n",
       "      <td>Annual Member</td>\n",
       "      <td>2021-09-30</td>\n",
       "      <td>2021-10-01</td>\n",
       "      <td>23</td>\n",
       "      <td>Thursday</td>\n",
       "      <td>September</td>\n",
       "      <td>3</td>\n",
       "    </tr>\n",
       "    <tr>\n",
       "      <th>454785</th>\n",
       "      <td>13916479</td>\n",
       "      <td>1347.0</td>\n",
       "      <td>7372</td>\n",
       "      <td>2021-09-30 23:59:00</td>\n",
       "      <td>7273.0</td>\n",
       "      <td>2021-10-01 00:22:00</td>\n",
       "      <td>Casual Member</td>\n",
       "      <td>2021-09-30</td>\n",
       "      <td>2021-10-01</td>\n",
       "      <td>23</td>\n",
       "      <td>Thursday</td>\n",
       "      <td>September</td>\n",
       "      <td>3</td>\n",
       "    </tr>\n",
       "    <tr>\n",
       "      <th>454786</th>\n",
       "      <td>13916480</td>\n",
       "      <td>899.0</td>\n",
       "      <td>7002</td>\n",
       "      <td>2021-09-30 23:59:00</td>\n",
       "      <td>7463.0</td>\n",
       "      <td>2021-10-01 00:14:00</td>\n",
       "      <td>Annual Member</td>\n",
       "      <td>2021-09-30</td>\n",
       "      <td>2021-10-01</td>\n",
       "      <td>23</td>\n",
       "      <td>Thursday</td>\n",
       "      <td>September</td>\n",
       "      <td>3</td>\n",
       "    </tr>\n",
       "    <tr>\n",
       "      <th>454787</th>\n",
       "      <td>13916481</td>\n",
       "      <td>203.0</td>\n",
       "      <td>7026</td>\n",
       "      <td>2021-09-30 23:59:00</td>\n",
       "      <td>7044.0</td>\n",
       "      <td>2021-10-01 00:03:00</td>\n",
       "      <td>Annual Member</td>\n",
       "      <td>2021-09-30</td>\n",
       "      <td>2021-10-01</td>\n",
       "      <td>23</td>\n",
       "      <td>Thursday</td>\n",
       "      <td>September</td>\n",
       "      <td>3</td>\n",
       "    </tr>\n",
       "  </tbody>\n",
       "</table>\n",
       "</div>"
      ],
      "text/plain": [
       "         Trip Id  Trip  Duration Start Station Id          Start Time  \\\n",
       "454783  13916477           553.0             7274 2021-09-30 23:59:00   \n",
       "454784  13916478           707.0             7204 2021-09-30 23:59:00   \n",
       "454785  13916479          1347.0             7372 2021-09-30 23:59:00   \n",
       "454786  13916480           899.0             7002 2021-09-30 23:59:00   \n",
       "454787  13916481           203.0             7026 2021-09-30 23:59:00   \n",
       "\n",
       "       End Station Id            End Time      User Type  Start date  \\\n",
       "454783         7382.0 2021-10-01 00:08:00  Annual Member  2021-09-30   \n",
       "454784         7020.0 2021-10-01 00:11:00  Annual Member  2021-09-30   \n",
       "454785         7273.0 2021-10-01 00:22:00  Casual Member  2021-09-30   \n",
       "454786         7463.0 2021-10-01 00:14:00  Annual Member  2021-09-30   \n",
       "454787         7044.0 2021-10-01 00:03:00  Annual Member  2021-09-30   \n",
       "\n",
       "          End date  Hour day_of_week      Month  Quarter  \n",
       "454783  2021-10-01    23    Thursday  September        3  \n",
       "454784  2021-10-01    23    Thursday  September        3  \n",
       "454785  2021-10-01    23    Thursday  September        3  \n",
       "454786  2021-10-01    23    Thursday  September        3  \n",
       "454787  2021-10-01    23    Thursday  September        3  "
      ]
     },
     "execution_count": 22,
     "metadata": {},
     "output_type": "execute_result"
    }
   ],
   "source": [
    "df.tail()"
   ]
  },
  {
   "cell_type": "code",
   "execution_count": 23,
   "id": "ee8def92",
   "metadata": {},
   "outputs": [
    {
     "name": "stdout",
     "output_type": "stream",
     "text": [
      "<class 'pandas.core.frame.DataFrame'>\n",
      "Int64Index: 8133252 entries, 0 to 454787\n",
      "Data columns (total 13 columns):\n",
      " #   Column            Dtype         \n",
      "---  ------            -----         \n",
      " 0   Trip Id           int64         \n",
      " 1   Trip  Duration    float64       \n",
      " 2   Start Station Id  object        \n",
      " 3   Start Time        datetime64[ns]\n",
      " 4   End Station Id    object        \n",
      " 5   End Time          datetime64[ns]\n",
      " 6   User Type         object        \n",
      " 7   Start date        object        \n",
      " 8   End date          object        \n",
      " 9   Hour              int64         \n",
      " 10  day_of_week       object        \n",
      " 11  Month             object        \n",
      " 12  Quarter           int64         \n",
      "dtypes: datetime64[ns](2), float64(1), int64(3), object(7)\n",
      "memory usage: 868.7+ MB\n"
     ]
    }
   ],
   "source": [
    "df.info()"
   ]
  },
  {
   "cell_type": "code",
   "execution_count": 24,
   "id": "cf808149",
   "metadata": {},
   "outputs": [
    {
     "data": {
      "text/plain": [
       "Trip Id             0\n",
       "Trip  Duration      0\n",
       "Start Station Id    0\n",
       "Start Time          0\n",
       "End Station Id      0\n",
       "End Time            0\n",
       "User Type           0\n",
       "Start date          0\n",
       "End date            0\n",
       "Hour                0\n",
       "day_of_week         0\n",
       "Month               0\n",
       "Quarter             0\n",
       "dtype: int64"
      ]
     },
     "execution_count": 24,
     "metadata": {},
     "output_type": "execute_result"
    }
   ],
   "source": [
    "df.isna().sum() "
   ]
  },
  {
   "cell_type": "markdown",
   "id": "f0642258",
   "metadata": {},
   "source": [
    "\n",
    "# Group the Data for modeling and analysis\n"
   ]
  },
  {
   "cell_type": "code",
   "execution_count": 25,
   "id": "e60e7e26",
   "metadata": {},
   "outputs": [],
   "source": [
    "use = df.groupby(['Start date', 'Hour','day_of_week', 'User Type'])['Trip Id'].count()\n",
    "use.to_csv( \"Tripamount.csv\")"
   ]
  },
  {
   "cell_type": "code",
   "execution_count": 26,
   "id": "7be0ca42",
   "metadata": {},
   "outputs": [],
   "source": [
    "duration = df.groupby(['Start date','day_of_week', 'User Type'])['Trip  Duration'].sum()\n",
    "duration.to_csv( \"duration.csv\")"
   ]
  },
  {
   "cell_type": "code",
   "execution_count": 27,
   "id": "fcffd9f9",
   "metadata": {},
   "outputs": [
    {
     "data": {
      "text/plain": [
       "<AxesSubplot:xlabel='Hour', ylabel='Trip Id'>"
      ]
     },
     "execution_count": 27,
     "metadata": {},
     "output_type": "execute_result"
    },
    {
     "data": {
      "text/plain": [
       "Text(0, 0.5, 'Average number of Trips per hour')"
      ]
     },
     "execution_count": 27,
     "metadata": {},
     "output_type": "execute_result"
    },
    {
     "data": {
      "image/png": "[encoded data removed]",
      "text/plain": [
       "<Figure size 1152x648 with 1 Axes>"
      ]
     },
     "metadata": {
      "needs_background": "light"
     },
     "output_type": "display_data"
    }
   ],
   "source": [
    "data = df.groupby(['Start date', 'Hour', 'User Type'])['Trip Id'].nunique().groupby(['Hour', 'User Type']).mean().reset_index()\n",
    "fig, ax = plt.subplots(figsize=(16, 9))\n",
    "\n",
    "sns.barplot(x='Hour', y='Trip Id', hue='User Type', data=data, ax=ax)\n",
    "ax.set_ylabel('Average number of Trips per hour')"
   ]
  },
  {
   "cell_type": "code",
   "execution_count": 28,
   "id": "d5e08860",
   "metadata": {},
   "outputs": [
    {
     "data": {
      "text/plain": [
       "<AxesSubplot:xlabel='Hour', ylabel='Trip Id'>"
      ]
     },
     "execution_count": 28,
     "metadata": {},
     "output_type": "execute_result"
    },
    {
     "data": {
      "text/plain": [
       "Text(0, 0.5, 'Average number of Trips per hour')"
      ]
     },
     "execution_count": 28,
     "metadata": {},
     "output_type": "execute_result"
    },
    {
     "data": {
      "image/png": "[encoded data removed]",
      "text/plain": [
       "<Figure size 1152x648 with 1 Axes>"
      ]
     },
     "metadata": {
      "needs_background": "light"
     },
     "output_type": "display_data"
    }
   ],
   "source": [
    "data = df.groupby(['Start date', 'Hour'])['Trip Id'].nunique().groupby(['Hour']).mean().reset_index()\n",
    "fig, ax = plt.subplots(figsize=(16, 9))\n",
    "\n",
    "sns.barplot(x='Hour', y='Trip Id', data=data, ax=ax,color=(0.2, 0.4, 0.6, 0.6))\n",
    "ax.set_ylabel('Average number of Trips per hour')"
   ]
  },
  {
   "cell_type": "code",
   "execution_count": 30,
   "id": "19e2f0fa",
   "metadata": {},
   "outputs": [],
   "source": [
    "# Station information Dataset\n",
    "\n",
    "from datetime import timedelta\n",
    "\n",
    "\n",
    "import matplotlib.pyplot as plt\n",
    "import pandas as pd\n",
    "import requests\n",
    "import seaborn as sns\n",
    "\n",
    "import json\n",
    "import os\n",
    "\n",
    "\n",
    "r = requests.get('https://tor.publicbikesystem.net/ube/gbfs/v1/en/station_information')\n",
    "\n",
    "bikeshare_stations = pd.DataFrame(json.loads(r.content)['data']['stations'])[['station_id', 'name', 'lat', 'lon']]\n"
   ]
  },
  {
   "cell_type": "code",
   "execution_count": 31,
   "id": "6c752383",
   "metadata": {},
   "outputs": [
    {
     "name": "stdout",
     "output_type": "stream",
     "text": [
      "    station_id                                     name        lat        lon\n",
      "0         7000             Fort York  Blvd / Capreol Ct  43.639832 -79.395954\n",
      "1         7001                Wellesley Station Green P  43.664964 -79.383550\n",
      "2         7002               St. George St / Bloor St W  43.667333 -79.399429\n",
      "3         7003                 Madison Ave / Bloor St W  43.667158 -79.402761\n",
      "4         7004                  University Ave / Elm St  43.656518 -79.389099\n",
      "..         ...                                      ...        ...        ...\n",
      "604       7677                    1303 Yonge St - SMART  43.684618 -79.392459\n",
      "605       7678  York University Station (South) - SMART  43.773450 -79.500200\n",
      "606       7679          York University Station (North)  43.774100 -79.500500\n",
      "607       7680                Princes Gate / Nunavut Dr  43.633464 -79.414306\n",
      "608       7681                             25 Booth Ave  43.654484 -79.341057\n",
      "\n",
      "[609 rows x 4 columns]\n"
     ]
    }
   ],
   "source": [
    "print(bikeshare_stations)"
   ]
  },
  {
   "cell_type": "code",
   "execution_count": 32,
   "id": "0d421e22",
   "metadata": {},
   "outputs": [],
   "source": [
    "# Use for bike demand modeling & Analysis\n",
    "bikedemand = df.groupby(['Start date','day_of_week','Month','Start Station Id'])['Trip Id'].count()\n",
    "bikedemand.to_csv( \"bike_demand_timeseries.csv\")\n",
    "\n",
    "\n",
    "# Use for dock demand (bike return) modeling & Analysis\n",
    "dockdemand = df.groupby(['End date','day_of_week','Month','End Station Id'])['Trip Id'].count()\n",
    "dockdemand.to_csv( \"dock_demand_timeseries.csv\")"
   ]
  }
 ],
 "metadata": {
  "kernelspec": {
   "display_name": "Python 3",
   "language": "python",
   "name": "python3"
  },
  "language_info": {
   "codemirror_mode": {
    "name": "ipython",
    "version": 3
   },
   "file_extension": ".py",
   "mimetype": "text/x-python",
   "name": "python",
   "nbconvert_exporter": "python",
   "pygments_lexer": "ipython3",
   "version": "3.8.8"
  }
 },
 "nbformat": 4,
 "nbformat_minor": 5
}
